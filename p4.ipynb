{
 "cells": [
  {
   "cell_type": "code",
   "execution_count": 2,
   "metadata": {
    "collapsed": false,
    "scrolled": true
   },
   "outputs": [],
   "source": [
    "import numpy\n",
    "datos=numpy.loadtxt('sun_AM0.dat')\n",
    "\n",
    "\n",
    "x=datos[:,0]*10\n",
    "y=datos[:,1]*100\n",
    "def integral1(x,y):\n",
    "    Sum=0\n",
    "    for i in range(len(x)-1): Sum=Sum+(y[i+1]+y[i])*(x[i+1]-x[i])/2\n",
    "    return Sum"
   ]
  },
  {
   "cell_type": "code",
   "execution_count": 3,
   "metadata": {
    "collapsed": true
   },
   "outputs": [],
   "source": [
    "import numpy\n",
    "import math\n",
    "\n",
    "\n",
    "def exptan(x,n): #expansion de la exponencial a orden n\n",
    "    e=0\n",
    "    for i in range(1, n): e= e+ math.pow( math.tan( x) , i)/ math.factorial( i)\n",
    "    return e\n",
    "\n",
    "def integ(x,n): #valor del integrando en [0,pi/2]\n",
    "    uval=math.pow(math.tan(x),3)\n",
    "    dval=exptan(x,n)\n",
    "    mval = uval/dval\n",
    "    tval = mval / math.pow(math.cos(x),2)\n",
    "    return tval\n",
    "\n",
    "def intnum(step,n):\n",
    "    Sum=0\n",
    "    step = 0.01\n",
    "    for i in numpy.arange(step, (math.pi) / 2 - step, step):\n",
    "        trp = (integ(i + step, n) + integ(i, n)) * step / 2\n",
    "        Sum = Sum + trp"
   ]
  },
  {
   "cell_type": "code",
   "execution_count": 4,
   "metadata": {
    "collapsed": true
   },
   "outputs": [],
   "source": [
    "import numpy\n",
    "import math\n",
    "\n",
    "\n",
    "def exptan2(x,n): #expansion de la exponencial a orden n\n",
    "    e=0\n",
    "    for i in range(1, n): e= e+ math.pow( math.tan( x) , i)/ math.factorial( i)\n",
    "    return e\n",
    "\n",
    "def integ2(x): #valor del integrando en [0,pi/2]\n",
    "    uval=math.pow(math.tan(x),3)\n",
    "    dval=exptan2(x,12)\n",
    "    mval = uval/dval\n",
    "    tval = mval / math.pow(math.cos(x),2)\n",
    "    return tval"
   ]
  },
  {
   "cell_type": "code",
   "execution_count": 5,
   "metadata": {
    "collapsed": false
   },
   "outputs": [],
   "source": [
    "import scipy.integrate\n",
    "import numpy\n",
    "import math\n",
    "%timeit integral1(x,y)\n",
    "%timeit scipy.integrate.trapz(x,y)\n",
    "%timeit intnum(0.01,12)\n",
    "%timeit scipy.integrate.quad(integ2,0,math.pi/2)"
   ]
  },
  {
   "cell_type": "code",
   "execution_count": null,
   "metadata": {
    "collapsed": true
   },
   "outputs": [],
   "source": [
    ""
   ]
  }
 ],
 "metadata": {
  "anaconda-cloud": {},
  "kernelspec": {
   "display_name": "Python [Root]",
   "language": "python",
   "name": "Python [Root]"
  },
  "language_info": {
   "codemirror_mode": {
    "name": "ipython",
    "version": 2.0
   },
   "file_extension": ".py",
   "mimetype": "text/x-python",
   "name": "python",
   "nbconvert_exporter": "python",
   "pygments_lexer": "ipython2",
   "version": "2.7.12"
  }
 },
 "nbformat": 4,
 "nbformat_minor": 0
}